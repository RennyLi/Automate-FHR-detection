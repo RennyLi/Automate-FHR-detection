{
 "cells": [
  {
   "cell_type": "markdown",
   "metadata": {},
   "source": [
    "# Create CSV database\n",
    "\n",
    "This converts the `.dat` and `.hea` files in the `ctu-data/` folder into `.csv` files stored in the `ctu-data_csv/` folder.\n",
    "\n",
    "Code adapted from: https://github.com/fabiom91/CTU-CHB_Physionet.org/blob/master/create_csv_database.ipynb\n",
    "\n",
    "## Import required pacakges"
   ]
  },
  {
   "cell_type": "code",
   "execution_count": 2,
   "metadata": {},
   "outputs": [],
   "source": [
    "import math\n",
    "from os import listdir\n",
    "import pandas as pd\n",
    "from tqdm import tqdm\n",
    "import wfdb\n",
    "\n",
    "import warnings\n",
    "warnings.filterwarnings(\"ignore\")"
   ]
  },
  {
   "cell_type": "markdown",
   "metadata": {},
   "source": [
    "## Define functions"
   ]
  },
  {
   "cell_type": "code",
   "execution_count": 3,
   "metadata": {},
   "outputs": [],
   "source": [
    "def get_all_records():\n",
    "    '''\n",
    "    Get list of record names e.g. ['1347', '2040', '1054', ...]\n",
    "    '''\n",
    "    rec_list = []\n",
    "    for file in listdir(\"ctu-data/\"):\n",
    "        rec = file[:file.find('.')] # 获取文件名的前缀，即文件名中 . 前面的部分\n",
    "        try:\n",
    "            rec = int(rec) # 将前缀转换为整数，如果成功则添加到 rec_list 列表中\n",
    "            rec_list.append(rec)\n",
    "        except:\n",
    "            # 如果转换失败，忽略该记录\n",
    "            pass\n",
    "    rec_list = [str(i) for i in rec_list] # 将所有记录转换为字符串列表\n",
    "    return rec_list\n",
    "\n",
    "\n",
    "def consec_repeat(repeats, max_value, len):\n",
    "    '''\n",
    "    Creates list with consecutive numbers, where each number repeats a specified\n",
    "    amount of times\n",
    "    Inputs:\n",
    "    - repeats - int, number of times to repeat each number\n",
    "    - max_value - int, maximum number to reach\n",
    "    - len - int, length of list (as may be to a quarter second so not 4 end rep)\n",
    "    '''\n",
    "    # Round up max_value to nearest integer if required\n",
    "    max_value = math.ceil(max_value) # 将 max_value 向上取整\n",
    "    # Create list of repeated consecutive numbers\n",
    "    list = [x//repeats for x in range((max_value+1)*repeats)] # 创建一个列表，其中每个数字重复 repeats 次\n",
    "    # Trim list to desired length (to deal with odd quarter seconds and with\n",
    "    # the zero-based indexing (whilst max_value will be one higher))\n",
    "    list = list[:len] # 将列表裁剪到指定的长度 len\n",
    "    return(list)\n",
    "\n",
    "\n",
    "def create_signals_database(rec):\n",
    "    '''\n",
    "    Read the signal files (with FHR and UC), add tme in seconds and minutes,\n",
    "    and save to csv file.\n",
    "    Inputs:\n",
    "    - rec - name of record (e.g. '1347')\n",
    "    '''\n",
    "    # Read signal file and save to dataframe\n",
    "    sample = wfdb.rdsamp(\"ctu-data/%s\" % rec) # 读取指定记录的信号文件\n",
    "    df = pd.DataFrame(sample[0], columns=['FHR','UC']) # 将信号数据转换为 DataFrame，并设置列名\n",
    "    df.index.name = 'quarter_second' # 将索引名设置为 \"quarter_second\"\n",
    "    # Find the length of the record in quarter seconds, seconds and minutes\n",
    "    q_sec = len(df.index) # 计算记录的长度（以四分之一秒为单位）\n",
    "    sec = q_sec/4\n",
    "    min = sec/60\n",
    "    # Add column with time in seconds and minutes\n",
    "    df['second'] = consec_repeat(repeats=4, max_value=int(sec), len=q_sec) # 添加表示时间（秒）的列\n",
    "    df['minute'] = consec_repeat(repeats=4*60, max_value=int(min), len=q_sec) # 添加表示时间（分钟）的列\n",
    "    # Save to csv file\n",
    "    df.to_csv('ctu-data_csv/%s.csv' % rec) # 将 DataFrame 保存为 CSV 文件\n",
    "\n",
    "\n",
    "def create_ann_dataframe(rec):\n",
    "    '''\n",
    "    Read the metadata and save as dataframe\n",
    "    Inputs:\n",
    "    - rec - name of record (e.g. '1347')\n",
    "    '''\n",
    "    sample = wfdb.rdsamp(\"ctu-data/%s\" % rec)\n",
    "    ann = sample[1]['comments'][1:] # 获取信号文件中的注释\n",
    "    ann_dic = {} # 初始化一个空字典，用于存储注释\n",
    "    for a in ann:\n",
    "        if '--' in a: # 移除包含 '--' 的注释\n",
    "            ann.remove(a)\n",
    "\n",
    "    for a in ann:\n",
    "        key = a[:a.find('  ')]\n",
    "        if a.find('  ') == -1:\n",
    "            key = a[:a.find(' ')]\n",
    "        inv = a[::-1]\n",
    "        value = inv[:inv.find(' ')][::-1]\n",
    "        value = float(value)\n",
    "        ann_dic[key] = [value]\n",
    "        \n",
    "    df1 = pd.DataFrame.from_dict(ann_dic).T\n",
    "    df1 = df1.rename(columns={0:rec})\n",
    "    return df1\n",
    "\n",
    "\n",
    "def append_ann_dataframes(df,df1):\n",
    "    '''\n",
    "    Join together the meta data from each record into a single file\n",
    "    Inputs:\n",
    "    df - dataframe, to be combined\n",
    "    df1 - dataframe, to be combined\n",
    "    '''\n",
    "    rec = df1.columns[0]\n",
    "    df[rec] = df1[rec] # 将 df1 的数据添加到 df 中，列名为记录名\n",
    "    return df"
   ]
  },
  {
   "cell_type": "markdown",
   "metadata": {},
   "source": [
    "## Convert the files"
   ]
  },
  {
   "cell_type": "code",
   "execution_count": 4,
   "metadata": {},
   "outputs": [
    {
     "name": "stderr",
     "output_type": "stream",
     "text": [
      "100%|██████████| 1104/1104 [00:29<00:00, 37.43it/s]"
     ]
    },
    {
     "name": "stdout",
     "output_type": "stream",
     "text": [
      "DONE!\n"
     ]
    },
    {
     "name": "stderr",
     "output_type": "stream",
     "text": [
      "\n"
     ]
    }
   ],
   "source": [
    "df = pd.DataFrame()\n",
    "for rec in tqdm(get_all_records()):\n",
    "    create_signals_database(rec)\n",
    "    df = append_ann_dataframes(df,create_ann_dataframe(rec))\n",
    "df.to_csv('ctu-data_csv/metadata.csv', index_label='parameter')\n",
    "\n",
    "print('DONE!')"
   ]
  },
  {
   "cell_type": "code",
   "execution_count": null,
   "metadata": {},
   "outputs": [],
   "source": []
  }
 ],
 "metadata": {
  "kernelspec": {
   "display_name": "main",
   "language": "python",
   "name": "python3"
  },
  "language_info": {
   "codemirror_mode": {
    "name": "ipython",
    "version": 3
   },
   "file_extension": ".py",
   "mimetype": "text/x-python",
   "name": "python",
   "nbconvert_exporter": "python",
   "pygments_lexer": "ipython3",
   "version": "3.11.7"
  }
 },
 "nbformat": 4,
 "nbformat_minor": 2
}
